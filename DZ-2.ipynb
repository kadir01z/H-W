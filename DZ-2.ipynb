{
 "cells": [
  {
   "cell_type": "markdown",
   "metadata": {},
   "source": [
    "Задание 1. Даны 2 строки: long_phrase и short_phrase. Напишите код, который проверяет действительно ли длинная фраза long_phrase длиннее короткой short_phrase. И выводит True или False в зависимости от результата сравнения."
   ]
  },
  {
   "cell_type": "code",
   "execution_count": 1,
   "metadata": {},
   "outputs": [],
   "source": [
    "long_phrase = 'Насколько проще было бы писать программы, если бы не заказчики'\n",
    "short_phrase = '640Кб должно хватить для любых задач. Билл Гейтс (по легенде)'"
   ]
  },
  {
   "cell_type": "code",
   "execution_count": 18,
   "metadata": {},
   "outputs": [
    {
     "data": {
      "text/plain": [
       "True"
      ]
     },
     "execution_count": 18,
     "metadata": {},
     "output_type": "execute_result"
    }
   ],
   "source": [
    "long_phrase>short_phrase"
   ]
  },
  {
   "cell_type": "markdown",
   "metadata": {},
   "source": [
    "Задание 2. Дано значение объема файла в байтах (в мегабайте 2^20 байт). Напишите перевод этого значения в мегабайты в формате: \"Объем файла равен 213.68Mb\"."
   ]
  },
  {
   "cell_type": "code",
   "execution_count": null,
   "metadata": {},
   "outputs": [],
   "source": [
    "byte = 2**20\n",
    "megabyte = byte/1048576\n",
    "print('Obyom fayla raven' , megabyte,'mb')"
   ]
  },
  {
   "cell_type": "markdown",
   "metadata": {},
   "source": [
    "Задание 3. Разработать приложение для определения знака зодиака по дате рождения. Пример:\n",
    "Введите месяц: март\n",
    "Введите число: 6\n",
    "Вывод: Рыбы,"
   ]
  },
  {
   "cell_type": "code",
   "execution_count": 1,
   "metadata": {},
   "outputs": [
    {
     "name": "stdout",
     "output_type": "stream",
     "text": [
      "Please provide month name: january\n",
      "Please provide the number of date: 26\n",
      "Your zodiac is \"Aquarius\"\n",
      "End of the session\n"
     ]
    }
   ],
   "source": [
    "month = input('Please provide month name: ').capitalize()   #no matter which case it is\n",
    "if (month == 'January') or (month == 'February') or (month == 'March') or (month == 'April') or (month == 'May') or (month == 'June') or (month == 'July') or (month == 'August') or (month == 'September') or (month == 'October') or (month == 'November') or (month == 'December'):\n",
    "    number_of_day = int(input('Please provide the number of date: ')) \n",
    "    if number_of_day <= 31:   #Check if numbers less or equal to 31\n",
    "        if((month == 'January' and number_of_day >=20) or (month == 'February' and number_of_day <=18)):\n",
    "            print('Your zodiac is \"Aquarius\"')\n",
    "        elif((month == 'February' and number_of_day >=19) or (month == 'March' and number_of_day <=20)):\n",
    "            print('Your zodiac is \"Pisces\"')\n",
    "        elif((month == 'March' and number_of_day >=21) or (month == 'April' and number_of_day <=19)):\n",
    "            print('Your zodiac is \"Aries\"')\n",
    "        elif((month == 'April' and number_of_day >=20) or (month == 'May' and number_of_day <=20)):\n",
    "            print('Your zodiac is \"Taurus\"')\n",
    "        elif((month == 'May' and number_of_day >=21) or (month == 'June' and number_of_day <=21)):\n",
    "            print('Your zodiac is \"Gemini\"')\n",
    "        elif((month == 'June' and number_of_day >=22) or (month == 'July' and number_of_day <=22)):\n",
    "            print('Your zodiac is \"Cancer\"')\n",
    "        elif((month == 'July' and number_of_day >=23) or (month == 'August' and number_of_day <=22)):\n",
    "            print('Your zodiac is \"Leo\"')\n",
    "        elif((month == 'August' and number_of_day >=23) or (month == 'September' and number_of_day <=22)):\n",
    "            print('Your zodiac is \"Virgo\"')\n",
    "        elif((month == 'September' and number_of_day >=23) or (month == 'October' and number_of_day <=23)):\n",
    "            print('Your zodiac is \"Libra\"')\n",
    "        elif((month == 'October' and number_of_day >=24) or (month == 'November' and number_of_day <=21)):\n",
    "            print('Your zodiac is \"Scorpio\"')\n",
    "        elif((month == 'November' and number_of_day >=22) or (month == 'December' and number_of_day <=21)):\n",
    "            print('Your zodiac is \"Sagittarius\"')\n",
    "        elif((month == 'December' and number_of_day >=22) or (month == 'January' and number_of_day <=19)):\n",
    "            print('Your zodiac is \"Capricorn\"')            \n",
    "        else:\n",
    "            print('Please try again')\n",
    "    else:\n",
    "        print('Warning: Your date number should be less or equal to 31!!!')\n",
    "else:\n",
    "    print('Warning: Please provide correct month name!!!') \n",
    "print('End of the session') "
   ]
  },
  {
   "cell_type": "markdown",
   "metadata": {},
   "source": [
    "Задание 4. Нужно разработать приложение для финансового планирования. Приложение учитывает сколько уходит на ипотеку, \"на жизнь\" и сколько нужно отложить на пенсию. Пользователь вводит:\n",
    "\n",
    "заработанную плату в месяц.\n",
    "сколько процентов от ЗП уходит на ипотеку.\n",
    "сколько процентов от ЗП уходит \"на жизнь\".\n",
    "сколько раз приходит премия в год.\n",
    "Остальная часть заработанной платы откладывается на пенсию.\n",
    "\n",
    "Также пользователю приходит премия в размере зарплаты, от которой половина уходит на отпуск, а вторая половина откладывается.\n",
    "\n",
    "Программа должна учитывать сколько премий было в год.\n",
    "\n",
    "Нужно вывести сколько денег тратит пользователь на ипотеку и сколько он накопит за год.\n",
    "\n",
    "Пример:\n",
    "\n",
    "Введите заработанную плату в месяц: 100000\n",
    "\n",
    "Введите сколько процентов уходит на ипотеку: 30\n",
    "\n",
    "Введите сколько процентов уходит на жизнь: 50\n",
    "\n",
    "Введите количество премий за год: 2\n",
    "\n",
    "Вывод: На ипотеку было потрачено: 360000 рублей Было накоплено: 340000 рублей"
   ]
  },
  {
   "cell_type": "code",
   "execution_count": 12,
   "metadata": {},
   "outputs": [
    {
     "name": "stdout",
     "output_type": "stream",
     "text": [
      "Please provide your salary for one month: 100000\n",
      "Please provide interest rate of your credit: 30\n",
      "How many percent of your salary goes for living? 50\n",
      "Please provide the number of bonuses in a year: 2\n",
      "Your expense for mortgage is 360000.0 USD , Your saving is 340000.0 USD .\n"
     ]
    }
   ],
   "source": [
    "salary_in_month = int(input('Please provide your salary for one month: '))\n",
    "interest_of_mortgage = int(input('Please provide interest rate of your credit: '))\n",
    "living_expense = int(input('How many percent of your salary goes for living? '))\n",
    "number_of_bonuses_in_one_year = int(input('Please provide the number of bonuses in a year: '))\n",
    "salary_in_year = salary_in_month * 12 \n",
    "expense_for_mortgage = (interest_of_mortgage/100)*salary_in_year\n",
    "Calculation = ((salary_in_year) - ((interest_of_mortgage/100)*salary_in_year) - ((living_expense/100)*salary_in_year)) + ((salary_in_month*number_of_bonuses_in_one_year)/2)\n",
    "\n",
    "print('Your expense for mortgage is', expense_for_mortgage,'USD',',','Your saving is', Calculation,'USD','.')"
   ]
  },
  {
   "cell_type": "code",
   "execution_count": null,
   "metadata": {},
   "outputs": [],
   "source": []
  }
 ],
 "metadata": {
  "kernelspec": {
   "display_name": "Python 3",
   "language": "python",
   "name": "python3"
  },
  "language_info": {
   "codemirror_mode": {
    "name": "ipython",
    "version": 3
   },
   "file_extension": ".py",
   "mimetype": "text/x-python",
   "name": "python",
   "nbconvert_exporter": "python",
   "pygments_lexer": "ipython3",
   "version": "3.7.6"
  }
 },
 "nbformat": 4,
 "nbformat_minor": 4
}
